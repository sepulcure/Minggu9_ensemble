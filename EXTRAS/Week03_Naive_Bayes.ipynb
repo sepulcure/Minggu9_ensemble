{
 "cells": [
  {
   "cell_type": "markdown",
   "metadata": {},
   "source": [
    "## Keterangan\n",
    "\n",
    "Notebook ini dibuat untuk kebutuhan penyediaan data dan ilustrasi untuk materi minggu ke-3, Naive Bayes"
   ]
  },
  {
   "cell_type": "code",
   "execution_count": 77,
   "metadata": {},
   "outputs": [],
   "source": [
    "# Data Dummy Untuk Ilustrasi Intuisi Naive Bayes\n",
    "from cProfile import label\n",
    "import numpy as np\n",
    "import pandas as pd\n",
    "from sklearn.datasets import make_classification\n",
    "import matplotlib.pyplot as plt\n",
    "\n",
    "# Create syntethic data\n",
    "X, y = make_classification(n_samples=30, n_features=2, n_classes=2, n_informative=2, n_redundant=0, n_repeated=0, shuffle=False)\n",
    "\n",
    "# Reshape y (labels) to make it 2D\n",
    "y =y.reshape(len(y), 1)\n",
    "\n",
    "# Concatenate X and y\n",
    "data = np.concatenate((X, y), axis=1)\n",
    "\n",
    "# Create DataFrame\n",
    "columns = ['Salary', 'Age', 'Ride']\n",
    "df = pd.DataFrame(data, columns=columns)\n",
    "\n",
    "# Change Ride Label to Something Readable\n",
    "labels = {\n",
    "    1.0 : 'Bus',\n",
    "    0.0 : 'Car'\n",
    "}\n",
    "\n",
    "df['Ride'] = df['Ride'].map(labels)"
   ]
  },
  {
   "cell_type": "code",
   "execution_count": 83,
   "metadata": {},
   "outputs": [
    {
     "data": {
      "image/png": "[encoded data removed]",
      "text/plain": [
       "<Figure size 432x288 with 1 Axes>"
      ]
     },
     "metadata": {
      "needs_background": "light"
     },
     "output_type": "display_data"
    }
   ],
   "source": [
    "# Plot\n",
    "colors = {\n",
    "    'Bus': 'MediumVioletRed',\n",
    "    'Car': 'Navy'\n",
    "}\n",
    "\n",
    "gb = df.groupby(['Ride'])\n",
    "bus = gb.get_group('Bus')\n",
    "car = gb.get_group('Car')\n",
    "\n",
    "plt.scatter(x=bus['Salary'], y=bus['Age'], c=colors['Bus'])\n",
    "plt.scatter(x=car['Salary'], y=car['Age'], c=colors['Car'])\n",
    "plt.xlabel('Salary')\n",
    "plt.ylabel('Age')\n",
    "plt.legend(['Bus', 'Car'])\n",
    "plt.gca().axes.xaxis.set_ticklabels([])\n",
    "plt.gca().axes.yaxis.set_ticklabels([])\n",
    "plt.show()"
   ]
  },
  {
   "cell_type": "code",
   "execution_count": null,
   "metadata": {},
   "outputs": [],
   "source": [
    "visualize"
   ]
  }
 ],
 "metadata": {
  "kernelspec": {
   "display_name": "Python 3.8.2 ('base')",
   "language": "python",
   "name": "python3"
  },
  "language_info": {
   "codemirror_mode": {
    "name": "ipython",
    "version": 3
   },
   "file_extension": ".py",
   "mimetype": "text/x-python",
   "name": "python",
   "nbconvert_exporter": "python",
   "pygments_lexer": "ipython3",
   "version": "3.8.2"
  },
  "orig_nbformat": 4,
  "vscode": {
   "interpreter": {
    "hash": "398dc28c06ad810e77de546bbdfa897a6ee0b83e59a5207339dda01a7843e01d"
   }
  }
 },
 "nbformat": 4,
 "nbformat_minor": 2
}
