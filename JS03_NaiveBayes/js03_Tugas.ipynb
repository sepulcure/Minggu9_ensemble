{
 "cells": [
  {
   "cell_type": "markdown",
   "metadata": {},
   "source": [
    "# Tugas\n",
    "\n",
    "## Tugas 1\n",
    "\n",
    "Buatlah model klasfikasi Multinomial Naive Bayes dengan ketentuan,\n",
    "\n",
    "1. Menggunakan data `spam.csv`\n",
    "2. Fitur `CountVectorizer` dengan mengaktifkan **stop_words**\n",
    "3. Evaluasi hasilnya\n",
    "\n",
    "## Tugas 2\n",
    "\n",
    "Buatlah model klasfikasi Multinomial Naive Bayes dengan ketentuan,\n",
    "\n",
    "1. Menggunakan data `spam.csv`\n",
    "2. Fitur `TF-IDF` dengan mengaktifkan **stop_words**\n",
    "3. Evaluasi hasilnya dan bandingkan dengan hasil tugas 1.\n",
    "4. Berikan kesimpulan fitur mana yang terbaik pada kasus data `spam.csv`"
   ]
  },
  {
   "cell_type": "markdown",
   "metadata": {},
   "source": []
  }
 ],
 "metadata": {
  "kernelspec": {
   "display_name": "Python 3.8.2 ('base')",
   "language": "python",
   "name": "python3"
  },
  "language_info": {
   "name": "python",
   "version": "3.8.2"
  },
  "orig_nbformat": 4,
  "vscode": {
   "interpreter": {
    "hash": "398dc28c06ad810e77de546bbdfa897a6ee0b83e59a5207339dda01a7843e01d"
   }
  }
 },
 "nbformat": 4,
 "nbformat_minor": 2
}
